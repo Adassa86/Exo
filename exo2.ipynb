{
  "nbformat": 4,
  "nbformat_minor": 0,
  "metadata": {
    "colab": {
      "name": "Untitled1.ipynb",
      "provenance": [],
      "toc_visible": true,
      "authorship_tag": "ABX9TyMIcx5a6Tq0YtzAFlKKKa+T",
      "include_colab_link": true
    },
    "kernelspec": {
      "name": "python3",
      "display_name": "Python 3"
    },
    "language_info": {
      "name": "python"
    }
  },
  "cells": [
    {
      "cell_type": "markdown",
      "metadata": {
        "id": "view-in-github",
        "colab_type": "text"
      },
      "source": [
        "<a href=\"https://colab.research.google.com/github/Adassa86/Exo/blob/main/exo2.ipynb\" target=\"_parent\"><img src=\"https://colab.research.google.com/assets/colab-badge.svg\" alt=\"Open In Colab\"/></a>"
      ]
    },
    {
      "cell_type": "code",
      "metadata": {
        "id": "kL-KkKl20L7o"
      },
      "source": [
        "-- Database: Library\n",
        "\n",
        "-- DROP DATABASE \"Library\";\n",
        "\n",
        "CREATE TABLE library(\n",
        " Library_id SERIAL PRIMARY KEY,\n",
        " Library_name VARCHAR (50) NOT NULL,\n",
        " Library_address VARCHAR (100) NOT NULL,\n",
        " Library_books_capacity SMALLINT NOT NULL\n",
        ")\n",
        "\n",
        "SELECT * FROM library; \n",
        "\n",
        "INSERT INTO library (library_id, library_name,library_address, library_books_capacity)\n",
        "VALUES('1','National Library','9310 Hall St Adrian,MI 49221',1200)\n",
        "\n",
        "INSERT INTO library (library_id, library_name,library_address, library_books_capacity)\n",
        "VALUES('2','City Library','279 S. Gainsway Court Indiapolis,IN 46201', 400)\n",
        "\n",
        "INSERT INTO library (library_id, library_name,library_address, library_books_capacity)\n",
        "VALUES('3','Johns Hopkins','7 East Golf St.Augusta, GA 30906',1000)\n",
        "\n",
        "INSERT INTO library (library_id, library_name,library_address, library_books_capacity)\n",
        "VALUES('4','UCLA Medical Library','7640 N.Center Street Wisconsis Rapids, WI 54494', 1500)\n",
        "\n",
        "SELECT * FROM library; \n",
        "\n",
        "CREATE TABLE Book(\n",
        " Book_id SERIAL PRIMARY KEY,\n",
        " Book_title VARCHAR (50) NOT NULL,\n",
        " Book_author VARCHAR (100) NOT NULL,\n",
        " Library_ID SMALLINT NOT NULL,\n",
        " Year_of_release SMALLINT NOT NULL\n",
        ")\n",
        "\n",
        "SELECT * FROM Book; \n",
        "\n",
        "\n",
        "INSERT INTO Book (Book_id, Book_title, Book_author, Library_ID,Year_of_release)\n",
        "VALUES('1','Harry Potter and the Prisoner of Azkaban','J.K Rowling',2 ,2004)\n",
        "\n",
        "INSERT INTO Book (Book_id, Book_title, Book_author, Library_ID,Year_of_release)\n",
        "VALUES('2','The Hunger Games','Suzanne Collins', 4, 2008)\n",
        "\n",
        "INSERT INTO Book (Book_id, Book_title, Book_author, Library_ID,Year_of_release)\n",
        "VALUES('3','Twilight','Stephenie Meyer',4, 2005)\n",
        "\n",
        "INSERT INTO Book (Book_id, Book_title, Book_author, Library_ID,Year_of_release)\n",
        "VALUES('4','The Fault in Our Stars','John Green', )\n",
        "\n",
        "INSERT INTO Book (Book_id, Book_title, Book_author, Library_ID,Year_of_release)\n",
        "VALUES('5','Angels & Demons','Dan Brown',3 ,2000)\n",
        "\n",
        "INSERT INTO Book (Book_id, Book_title, Book_author, Library_ID,Year_of_release)\n",
        "VALUES('6','Pride and Prejudice','Jane Austen ', 3, 1813)\n",
        "\n",
        "INSERT INTO Book (Book_id, Book_title, Book_author, Library_ID,Year_of_release)\n",
        "VALUES('7','The Kite Runner','Khaled Hosseini',1, 2003)\n",
        "\n",
        "INSERT INTO Book (Book_id, Book_title, Book_author, Library_ID,Year_of_release)\n",
        "VALUES('8','Divergent','Veronica Roth', 1, 2011)\n",
        "\n",
        "INSERT INTO Book (Book_id, Book_title, Book_author, Library_ID,Year_of_release)\n",
        "VALUES('9','1984','George Orwell, Enrich Fromm, Celal Uster', 2, 1949)\n",
        "\n",
        "INSERT INTO Book (Book_id, Book_title, Book_author, Library_ID,Year_of_release)\n",
        "VALUES('10','Animal Farm:A Firy Story','George Orwell', 2, 1945)\n",
        "\n",
        "\n",
        "SELECT book.book_title, book.book_author, library.library_name\n",
        "FROM book\n",
        "INNER JOIN library\n",
        "ON book.library_id = library.library_id;\n"
      ],
      "execution_count": null,
      "outputs": []
    }
  ]
}